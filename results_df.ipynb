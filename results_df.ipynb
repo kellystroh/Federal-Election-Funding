{
 "cells": [
  {
   "cell_type": "code",
   "execution_count": 1,
   "metadata": {},
   "outputs": [
    {
     "data": {
      "text/plain": [
       "'/Users/Kelly/galvanize/week4/Federal-Election-Funding'"
      ]
     },
     "execution_count": 1,
     "metadata": {},
     "output_type": "execute_result"
    }
   ],
   "source": [
    "pwd"
   ]
  },
  {
   "cell_type": "code",
   "execution_count": null,
   "metadata": {},
   "outputs": [],
   "source": [
    "'''\n",
    "get file in jupyter cell\n",
    "%load filename.py\n",
    "\n",
    "save to file from jupyter cell (will overwrite)\n",
    "%%writefile filename.py\n",
    "'''"
   ]
  },
  {
   "cell_type": "code",
   "execution_count": 2,
   "metadata": {},
   "outputs": [],
   "source": [
    "%matplotlib inline\n",
    "\n",
    "import pandas as pd\n",
    "import numpy as np\n",
    "import scipy as sp\n",
    "import scipy.stats as stats\n",
    "import matplotlib.pyplot as plt\n",
    "\n",
    "plt.style.use('ggplot')"
   ]
  },
  {
   "cell_type": "code",
   "execution_count": 13,
   "metadata": {},
   "outputs": [
    {
     "data": {
      "text/plain": [
       "\"#filter out write ins (rows in which the boolean value in column 'writein' does NOT equal False)\\nresults_gen_elec2 = results_gen_elec1[results_gen_elec1['writein']==False]\\n#filter out special (rows in which the boolean value in column 'special' does NOT equal False)\\nresults_gen_elec3 = results_gen_elec2[results_gen_elec2['special']==False]\\n#add column for district string\\nresults_gen_elec3['district_str'] = results_gen_elec3['district'].apply(lambda x: str(x) if len(str(x))>1 else '0' + str(x))\\n#add column for vote percentage\\nresults_gen_elec3['vote%'] = 100 * results_gen_elec3['candidatevotes']/results_gen_elec3['totalvotes']\\n#add column for elec_id\\nresults_gen_elec3['elec_id'] = results_gen_elec3['year'].astype(str) +'-'+results_gen_elec3['state_po']+'-'+results_gen_elec3['district_str']\\n\\n\\n#extract last name from candidate column (potential for error) & make new column\\nsurname_series2 = results_gen_elec3['candidate'].apply(lambda x: x.split(' ')[-1].upper() if x.split(' ')[-1] not in nix_name else x.split(' ')[-2].upper())\\n#strip trailing commas \\nresults_gen_elec3['last_name'] = surname_series2.str.strip(',')\\n#look for faulty entries, particularly among frequently occurring names  \\nnix_name = ['Sr', 'Sr.', 'Jr', 'Jr.', 'III', 'II']\\nsurname_series = results_gen_elec3['candidate'].apply(lambda x: x.split(' ')[-1] if x.split(' ')[-1] not in nix_name else x.split(' ')[-2])\\n# make list of all names that occur and remove bad entries ['Other', 'Vote/Scattering', 'scatter', 'Vote', ' ']\\n# *** ' ' = likely due to flaw in code\\nsurname_lst = list(surname_series.value_counts().index)\\nlast_name_list = [x.upper() for x in (surname_lst[3:7]+surname_lst[8:139] + surname_lst[140:])]\\nlast_name_list\\nresults_gen_elec3[results_gen_elec3['last_name'].isin(last_name_list)]\\n# make ELEC-CAND column (first edit elec_id to match formatting of finance_df)\\nresults_gen_elec3['elec_id'] = results_gen_elec3['elec_id'].str.replace('statewide', '00')\\nresults_gen_elec3['elec-cand'] = results_gen_elec3['elec_id'] + '-' + results_gen_elec3['last_name']\\n# remove duplicates from ELEC-CAND\\nrepeats = results_gen_elec3['elec-cand'].value_counts()\\nrepeats_df = pd.DataFrame()\\nrepeats_df['filtered'] = repeats[repeats > 1]\\nmystery_repeats = results_gen_elec3[results_gen_elec3['elec-cand'].isin(repeats_df.reset_index()['index'])]\\nresults_GE = results_gen_elec3[~results_gen_elec3['elec-cand'].isin(repeats_df.reset_index()['index'])]\\n# ready for merge? \\nresults_GE\""
      ]
     },
     "execution_count": 13,
     "metadata": {},
     "output_type": "execute_result"
    }
   ],
   "source": [
    "#%%writefile build_results_df.py\n",
    "%matplotlib inline\n",
    "import pandas as pd\n",
    "import numpy as np\n",
    "import scipy as sp\n",
    "import scipy.stats as stats\n",
    "import matplotlib.pyplot as plt\n",
    "plt.style.use('ggplot')\n",
    "\n",
    "# import House election results from 1976 to 2018 (CSV from Harvard Dataverse)\n",
    "# then delete data prior to 1980\n",
    "house_data_76to2018 = pd.read_csv('/Users/Kelly/galvanize/week4/Federal-Election-Funding/data/results-from-Dataverse/house1976-2018.csv', sep=',', header=0)\n",
    "house_data_80to18 = results_data_76to2018[results_data_76to2018['year']>1979]\n",
    "# import Senate election results from 1976 to 2018 (CSV from Harvard Dataverse)\n",
    "# then delete data prior to 1980\n",
    "senate_data = pd.read_csv('/Users/Kelly/galvanize/week4/Federal-Election-Funding/data/results-from-Dataverse/Senate/1976-2018-senate2.csv', sep=',', header=0)\n",
    "senate_data_80to18 = senate_data[senate_data['year']>1979]\n",
    "\n",
    "results_raw = pd.concat([senate_data_80to18, house_data_80to18[['year', 'state', 'state_po', 'state_fips', 'state_cen', 'state_ic',\n",
    "       'office', 'district', 'stage', 'special', 'candidate', 'party',\n",
    "       'writein', 'mode', 'candidatevotes', 'totalvotes', 'unofficial',\n",
    "       'version']]], axis=0)\n",
    "\n",
    "#filter out primaries (rows in which the value in column 'stage' does NOT equal 'gen')\n",
    "results_gen_elec1 = results_raw[results_raw['stage']=='gen']\n",
    "'''#filter out write ins (rows in which the boolean value in column 'writein' does NOT equal False)\n",
    "results_gen_elec2 = results_gen_elec1[results_gen_elec1['writein']==False]\n",
    "#filter out special (rows in which the boolean value in column 'special' does NOT equal False)\n",
    "results_gen_elec3 = results_gen_elec2[results_gen_elec2['special']==False]\n",
    "#add column for district string\n",
    "results_gen_elec3['district_str'] = results_gen_elec3['district'].apply(lambda x: str(x) if len(str(x))>1 else '0' + str(x))\n",
    "#add column for vote percentage\n",
    "results_gen_elec3['vote%'] = 100 * results_gen_elec3['candidatevotes']/results_gen_elec3['totalvotes']\n",
    "#add column for elec_id\n",
    "results_gen_elec3['elec_id'] = results_gen_elec3['year'].astype(str) +'-'+results_gen_elec3['state_po']+'-'+results_gen_elec3['district_str']\n",
    "\n",
    "\n",
    "#extract last name from candidate column (potential for error) & make new column\n",
    "surname_series2 = results_gen_elec3['candidate'].apply(lambda x: x.split(' ')[-1].upper() if x.split(' ')[-1] not in nix_name else x.split(' ')[-2].upper())\n",
    "#strip trailing commas \n",
    "results_gen_elec3['last_name'] = surname_series2.str.strip(',')\n",
    "#look for faulty entries, particularly among frequently occurring names  \n",
    "nix_name = ['Sr', 'Sr.', 'Jr', 'Jr.', 'III', 'II']\n",
    "surname_series = results_gen_elec3['candidate'].apply(lambda x: x.split(' ')[-1] if x.split(' ')[-1] not in nix_name else x.split(' ')[-2])\n",
    "# make list of all names that occur and remove bad entries ['Other', 'Vote/Scattering', 'scatter', 'Vote', ' ']\n",
    "# *** ' ' = likely due to flaw in code\n",
    "surname_lst = list(surname_series.value_counts().index)\n",
    "last_name_list = [x.upper() for x in (surname_lst[3:7]+surname_lst[8:139] + surname_lst[140:])]\n",
    "last_name_list\n",
    "results_gen_elec3[results_gen_elec3['last_name'].isin(last_name_list)]\n",
    "# make ELEC-CAND column (first edit elec_id to match formatting of finance_df)\n",
    "results_gen_elec3['elec_id'] = results_gen_elec3['elec_id'].str.replace('statewide', '00')\n",
    "results_gen_elec3['elec-cand'] = results_gen_elec3['elec_id'] + '-' + results_gen_elec3['last_name']\n",
    "# remove duplicates from ELEC-CAND\n",
    "repeats = results_gen_elec3['elec-cand'].value_counts()\n",
    "repeats_df = pd.DataFrame()\n",
    "repeats_df['filtered'] = repeats[repeats > 1]\n",
    "mystery_repeats = results_gen_elec3[results_gen_elec3['elec-cand'].isin(repeats_df.reset_index()['index'])]\n",
    "results_GE = results_gen_elec3[~results_gen_elec3['elec-cand'].isin(repeats_df.reset_index()['index'])]\n",
    "# ready for merge? \n",
    "results_GE'''"
   ]
  },
  {
   "cell_type": "code",
   "execution_count": 5,
   "metadata": {},
   "outputs": [
    {
     "data": {
      "text/plain": [
       "Index(['year', 'state', 'state_po', 'state_fips', 'state_cen', 'state_ic',\n",
       "       'office', 'district', 'stage', 'special', 'candidate', 'party',\n",
       "       'writein', 'mode', 'candidatevotes', 'totalvotes', 'unofficial',\n",
       "       'version'],\n",
       "      dtype='object')"
      ]
     },
     "execution_count": 5,
     "metadata": {},
     "output_type": "execute_result"
    }
   ],
   "source": [
    "senate_data_80to18.columns"
   ]
  },
  {
   "cell_type": "code",
   "execution_count": 8,
   "metadata": {},
   "outputs": [
    {
     "data": {
      "text/plain": [
       "Index(['year', 'state', 'state_po', 'state_fips', 'state_cen', 'state_ic',\n",
       "       'office', 'district', 'stage', 'runoff', 'special', 'candidate',\n",
       "       'party', 'writein', 'mode', 'candidatevotes', 'totalvotes',\n",
       "       'unofficial', 'version'],\n",
       "      dtype='object')"
      ]
     },
     "execution_count": 8,
     "metadata": {},
     "output_type": "execute_result"
    }
   ],
   "source": [
    "house_data_80to18.columns"
   ]
  },
  {
   "cell_type": "code",
   "execution_count": null,
   "metadata": {},
   "outputs": [],
   "source": []
  }
 ],
 "metadata": {
  "kernelspec": {
   "display_name": "Python 3",
   "language": "python",
   "name": "python3"
  },
  "language_info": {
   "codemirror_mode": {
    "name": "ipython",
    "version": 3
   },
   "file_extension": ".py",
   "mimetype": "text/x-python",
   "name": "python",
   "nbconvert_exporter": "python",
   "pygments_lexer": "ipython3",
   "version": "3.7.1"
  }
 },
 "nbformat": 4,
 "nbformat_minor": 2
}
