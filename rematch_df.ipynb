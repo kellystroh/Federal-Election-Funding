{
 "cells": [
  {
   "cell_type": "code",
   "execution_count": 17,
   "metadata": {},
   "outputs": [],
   "source": [
    "#%%writefile rematch_df.py\n",
    "import pandas as pd\n",
    "import numpy as np\n",
    "import scipy as sp\n",
    "import scipy.stats as stats\n",
    "import matplotlib.pyplot as plt\n",
    "\n",
    "plt.style.use('ggplot')\n",
    "\n",
    "\n",
    "import build_financial_df as fin\n",
    "import build_results_df as res\n",
    "import merge_df as mer\n",
    "\n",
    "# get top 2 candidates from each race, leaving 13212 candidates total\n",
    "# this step simplifies, but reduces info about third party candidates\n",
    "top2_cand = mer.merge_df_cut.groupby('elec_id')['vote%'].nlargest(2)\n",
    "# top2_cand is a pd.Series double-indexed by new_elec_id & merge_df_cut index no.\n",
    "\n",
    "\n",
    "# make dictionary with values equal to set of names of top 2 candidates \n",
    "cand_pair_dct = {}\n",
    "for pair in top2_cand.index:\n",
    "    l_name = mer.merge_df_cut.loc[pair[1], 'last_name']\n",
    "    if pair[0] not in cand_pair_dct:\n",
    "        cand_pair_dct[pair[0]] = set()\n",
    "    cand_pair_dct[pair[0]].add(l_name)\n",
    "\n",
    "# list of sets of rematch races\n",
    "from itertools import chain\n",
    "rev_dict = {}\n",
    "for key, value in cand_pair_dct.items():\n",
    "    rev_dict.setdefault(str(value), set()).add(key)\n",
    "rematch_list = [values for key, values in rev_dict.items() if len(values) > 1]\n",
    "\n",
    "# create dataframe of the 13212 'candidate entries' (bear in mind each candidate is in there at least twice)\n",
    "index_list = [top2_cand.index[i][1] for i in range(len(top2_cand))]\n",
    "rematch_df_start = mer.merge_df_start[mer.merge_df_start.index.isin(index_list)]\n",
    "\n",
    "'''\n",
    "\n",
    "#use this to see how many races remain in dataset; this should be \n",
    "count_ttl = 0\n",
    "for each in rematch_list:\n",
    "    x = len(each)\n",
    "    count_ttl += x\n",
    "count_ttl\n",
    "# first attempt, count_ttl is 1324\n",
    "# second attempt, count_ttl is 1295... this makes sense because \n",
    "\n",
    "'''\n",
    "\n",
    "rematch_cut = rematch_df_start[['FEC_ID','elec_id','year', 'candidate', 'candidatevotes', 'vote%', 'office', 'party', 'state', 'district','INC_STATUS','totalvotes', 'TTL_RECEIPTS', 'TTL_DISB']]\n"
   ]
  },
  {
   "cell_type": "code",
   "execution_count": 18,
   "metadata": {},
   "outputs": [
    {
     "data": {
      "text/plain": [
       "US House     12002\n",
       "US Senate     1210\n",
       "Name: office, dtype: int64"
      ]
     },
     "execution_count": 18,
     "metadata": {},
     "output_type": "execute_result"
    }
   ],
   "source": [
    "rematch_cut['office'].value_counts()"
   ]
  },
  {
   "cell_type": "code",
   "execution_count": null,
   "metadata": {},
   "outputs": [],
   "source": []
  },
  {
   "cell_type": "code",
   "execution_count": null,
   "metadata": {},
   "outputs": [],
   "source": []
  }
 ],
 "metadata": {
  "kernelspec": {
   "display_name": "Python 3",
   "language": "python",
   "name": "python3"
  },
  "language_info": {
   "codemirror_mode": {
    "name": "ipython",
    "version": 3
   },
   "file_extension": ".py",
   "mimetype": "text/x-python",
   "name": "python",
   "nbconvert_exporter": "python",
   "pygments_lexer": "ipython3",
   "version": "3.7.1"
  }
 },
 "nbformat": 4,
 "nbformat_minor": 2
}
