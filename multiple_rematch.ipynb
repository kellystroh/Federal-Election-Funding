{
 "cells": [
  {
   "cell_type": "code",
   "execution_count": 3,
   "metadata": {},
   "outputs": [
    {
     "name": "stderr",
     "output_type": "stream",
     "text": [
      "/Users/Kelly/anaconda3/lib/python3.7/site-packages/pandas/core/indexing.py:362: SettingWithCopyWarning: \n",
      "A value is trying to be set on a copy of a slice from a DataFrame.\n",
      "Try using .loc[row_indexer,col_indexer] = value instead\n",
      "\n",
      "See the caveats in the documentation: http://pandas.pydata.org/pandas-docs/stable/indexing.html#indexing-view-versus-copy\n",
      "  self.obj[key] = _infer_fill_value(value)\n",
      "/Users/Kelly/anaconda3/lib/python3.7/site-packages/pandas/core/indexing.py:543: SettingWithCopyWarning: \n",
      "A value is trying to be set on a copy of a slice from a DataFrame.\n",
      "Try using .loc[row_indexer,col_indexer] = value instead\n",
      "\n",
      "See the caveats in the documentation: http://pandas.pydata.org/pandas-docs/stable/indexing.html#indexing-view-versus-copy\n",
      "  self.obj[item] = s\n"
     ]
    }
   ],
   "source": [
    "##%%writefile multiple_rematch.py\n",
    "#%load multiple_rematch.py\n",
    "import pandas as pd\n",
    "import numpy as np\n",
    "import scipy as sp\n",
    "import scipy.stats as stats\n",
    "import matplotlib.pyplot as plt\n",
    "import matplotlib.ticker as ticker\n",
    "\n",
    "plt.style.use('ggplot')\n",
    "\n",
    "import rematch_df as rem\n",
    "\n",
    "\n",
    "mult_rematch_list = [each for each in rem.rematch_list if len(each)>2]\n",
    "len(mult_rematch_list)\n",
    "\n",
    "mult_dict = {}\n",
    "for each in mult_rematch_list:\n",
    "    if len(each) not in mult_dict:\n",
    "        mult_dict[len(each)] = []\n",
    "    mult_dict[len(each)].append(each)"
   ]
  },
  {
   "cell_type": "code",
   "execution_count": 4,
   "metadata": {
    "collapsed": true
   },
   "outputs": [
    {
     "data": {
      "text/plain": [
       "{4: [{'1980-CA-36', '1982-CA-36', '1984-CA-36', '1988-CA-36'},\n",
       "  {'1982-OH-10', '1984-OH-10', '1986-OH-10', '1988-OH-10'},\n",
       "  {'1992-CA-05', '1994-CA-05', '1996-CA-05', '1998-CA-05'},\n",
       "  {'1992-NC-01', '1994-NC-01', '1996-NC-01', '1998-NC-01'},\n",
       "  {'1998-OH-02', '2000-OH-02', '2002-OH-02', '2004-OH-02'},\n",
       "  {'2000-WI-01', '2002-WI-01', '2004-WI-01', '2006-WI-01'},\n",
       "  {'2002-IN-09', '2004-IN-09', '2006-IN-09', '2008-IN-09'},\n",
       "  {'2006-KY-05', '2012-KY-05', '2014-KY-05', '2018-KY-05'},\n",
       "  {'2010-NH-01', '2012-NH-01', '2014-NH-01', '2016-NH-01'},\n",
       "  {'2012-TX-01', '2014-TX-01', '2016-TX-01', '2018-TX-01'}],\n",
       " 3: [{'1980-CA-37', '1992-CA-40', '1994-CA-40'},\n",
       "  {'1980-MD-02', '1982-MD-02', '1984-MD-02'},\n",
       "  {'1980-OH-05', '1982-OH-05', '1984-OH-05'},\n",
       "  {'1980-UT-01', '1986-UT-01', '1988-UT-01'},\n",
       "  {'1980-WA-05', '1982-WA-05', '1992-WA-05'},\n",
       "  {'1982-CT-01', '1984-CT-01', '1986-CT-01'},\n",
       "  {'1982-IL-21', '1984-IL-21', '1986-IL-21'},\n",
       "  {'1982-NC-11', '1984-NC-11', '1986-NC-11'},\n",
       "  {'1982-PA-03', '1992-PA-03', '2000-PA-03'},\n",
       "  {'1984-MN-07', '1986-MN-07', '1990-MN-07'},\n",
       "  {'1986-CA-03', '1988-CA-03', '1990-CA-03'},\n",
       "  {'1986-CA-11', '1988-CA-11', '1990-CA-11'},\n",
       "  {'1986-CA-28', '1988-CA-28', '1990-CA-28'},\n",
       "  {'1986-CA-41', '1988-CA-41', '1990-CA-41'},\n",
       "  {'1986-OH-11', '1988-OH-11', '1990-OH-11'},\n",
       "  {'1988-MN-04', '1990-MN-04', '1992-MN-04'},\n",
       "  {'1988-MN-08', '1990-MN-08', '1998-MN-08'},\n",
       "  {'1990-NC-07', '1992-NC-07', '1994-NC-07'},\n",
       "  {'1990-TX-02', '1992-TX-02', '1994-TX-02'},\n",
       "  {'1992-MI-12', '1994-MI-12', '1996-MI-12'},\n",
       "  {'1994-MA-06', '1996-MA-06', '1998-MA-06'},\n",
       "  {'1994-WI-04', '1996-WI-04', '1998-WI-04'},\n",
       "  {'1994-WI-07', '1996-WI-07', '1998-WI-07'},\n",
       "  {'1996-IL-17', '1998-IL-17', '2000-IL-17'},\n",
       "  {'1996-PA-11', '1998-PA-11', '2000-PA-11'},\n",
       "  {'1998-MN-06', '2000-MN-06', '2002-MN-02'},\n",
       "  {'1998-WA-06', '2000-WA-06', '2002-WA-06'},\n",
       "  {'1998-WA-08', '2000-WA-08', '2002-WA-08'},\n",
       "  {'2000-CA-47', '2002-CA-48', '2004-CA-48'},\n",
       "  {'2002-CA-25', '2008-CA-25', '2010-CA-25'},\n",
       "  {'2002-FL-06', '2004-FL-06', '2006-FL-06'},\n",
       "  {'2002-IN-05', '2004-IN-05', '2006-IN-05'},\n",
       "  {'2002-MI-01', '2004-MI-01', '2006-MI-01'},\n",
       "  {'2002-PA-11', '2008-PA-11', '2010-PA-11'},\n",
       "  {'2004-FL-14', '2006-FL-14', '2008-FL-14'},\n",
       "  {'2004-IL-15', '2006-IL-15', '2010-IL-15'},\n",
       "  {'2004-PA-16', '2006-PA-16', '2010-PA-16'},\n",
       "  {'2006-AZ-02', '2008-AZ-02', '2010-AZ-02'},\n",
       "  {'2006-IN-06', '2008-IN-06', '2010-IN-06'},\n",
       "  {'2006-NV-01', '2008-NV-01', '2010-NV-01'},\n",
       "  {'2008-CA-17', '2010-CA-17', '2012-CA-20'},\n",
       "  {'2008-IA-02', '2010-IA-02', '2014-IA-02'},\n",
       "  {'2008-TX-15', '2010-TX-15', '2014-TX-15'},\n",
       "  {'2010-CA-08', '2012-CA-12', '2014-CA-12'},\n",
       "  {'2010-TN-09', '2014-TN-09', '2018-TN-09'},\n",
       "  {'2010-WI-04', '2012-WI-04', '2014-WI-04'},\n",
       "  {'2012-CA-27', '2014-CA-27', '2016-CA-27'},\n",
       "  {'2012-IL-10', '2014-IL-10', '2016-IL-10'},\n",
       "  {'2012-TX-07', '2014-TX-07', '2016-TX-07'},\n",
       "  {'2012-TX-35', '2014-TX-35', '2016-TX-35'},\n",
       "  {'2014-CA-02', '2016-CA-02', '2018-CA-02'},\n",
       "  {'2014-OH-04', '2016-OH-04', '2018-OH-04'}],\n",
       " 5: [{'1984-IL-09', '1986-IL-09', '1988-IL-09', '1990-IL-09', '1992-IL-09'},\n",
       "  {'1990-PA-12', '1994-PA-12', '1996-PA-12', '2000-PA-12', '2002-PA-12'},\n",
       "  {'1994-SC-06', '1996-SC-06', '1998-SC-06', '2002-SC-06', '2006-SC-06'}],\n",
       " 6: [{'2002-IN-01',\n",
       "   '2004-IN-01',\n",
       "   '2006-IN-01',\n",
       "   '2008-IN-01',\n",
       "   '2010-IN-01',\n",
       "   '2014-IN-01'},\n",
       "  {'2006-MO-05',\n",
       "   '2008-MO-05',\n",
       "   '2010-MO-05',\n",
       "   '2012-MO-05',\n",
       "   '2016-MO-05',\n",
       "   '2018-MO-05'}]}"
      ]
     },
     "execution_count": 4,
     "metadata": {},
     "output_type": "execute_result"
    }
   ],
   "source": [
    "mult_dict"
   ]
  },
  {
   "cell_type": "code",
   "execution_count": 6,
   "metadata": {},
   "outputs": [],
   "source": [
    "mult_rematch_list = [each for each in rem.rematch_list if len(each)>2]\n",
    "mult_rematch_list\n",
    "mult_dict = {}\n",
    "for each in mult_rematch_list:\n",
    "    if len(each) not in mult_dict:\n",
    "        mult_dict[len(each)] = []\n",
    "    mult_dict[len(each)].append(each)"
   ]
  },
  {
   "cell_type": "code",
   "execution_count": 7,
   "metadata": {},
   "outputs": [
    {
     "name": "stdout",
     "output_type": "stream",
     "text": [
      "Number of 3-race rematches:  52\n",
      "Number of 4-race rematches:  10\n",
      "Number of 5-race rematches:  3\n",
      "Number of 6-race rematches:  2\n"
     ]
    }
   ],
   "source": [
    "for x in range(3,7):\n",
    "    print(f'Number of {x}-race rematches: ', len(mult_dict[x]))"
   ]
  },
  {
   "cell_type": "code",
   "execution_count": 61,
   "metadata": {},
   "outputs": [
    {
     "data": {
      "text/plain": [
       "[{'1980-CA-36', '1982-CA-36', '1984-CA-36', '1988-CA-36'},\n",
       " {'1982-OH-10', '1984-OH-10', '1986-OH-10', '1988-OH-10'},\n",
       " {'1992-CA-05', '1994-CA-05', '1996-CA-05', '1998-CA-05'},\n",
       " {'1992-NC-01', '1994-NC-01', '1996-NC-01', '1998-NC-01'},\n",
       " {'1998-OH-02', '2000-OH-02', '2002-OH-02', '2004-OH-02'},\n",
       " {'2000-WI-01', '2002-WI-01', '2004-WI-01', '2006-WI-01'},\n",
       " {'2002-IN-09', '2004-IN-09', '2006-IN-09', '2008-IN-09'},\n",
       " {'2006-KY-05', '2012-KY-05', '2014-KY-05', '2018-KY-05'},\n",
       " {'2010-NH-01', '2012-NH-01', '2014-NH-01', '2016-NH-01'},\n",
       " {'2012-TX-01', '2014-TX-01', '2016-TX-01', '2018-TX-01'}]"
      ]
     },
     "execution_count": 61,
     "metadata": {},
     "output_type": "execute_result"
    }
   ],
   "source": [
    "mult_dict[4]"
   ]
  },
  {
   "cell_type": "code",
   "execution_count": 14,
   "metadata": {},
   "outputs": [],
   "source": [
    "mult_rem_elec_id = [] \n",
    "for x in range(3,7):\n",
    "    for y in mult_dict[x]:\n",
    "        for z in y:\n",
    "            mult_rem_elec_id.append(z)\n",
    "#mult_rem_elec_id #list of all elec ids with more than two rematches"
   ]
  },
  {
   "cell_type": "code",
   "execution_count": 77,
   "metadata": {},
   "outputs": [
    {
     "data": {
      "text/plain": [
       "<matplotlib.axes._subplots.AxesSubplot at 0x1a27ec6780>"
      ]
     },
     "execution_count": 77,
     "metadata": {},
     "output_type": "execute_result"
    },
    {
     "data": {
      "image/png": "[encoded data removed]",
      "text/plain": [
       "<Figure size 432x288 with 1 Axes>"
      ]
     },
     "metadata": {},
     "output_type": "display_data"
    }
   ],
   "source": [
    "x_group = [[],[]]\n",
    "y_group = [[],[]]\n",
    "\n",
    "for i in range(len(mult_dict[4])):\n",
    "    a = rem.rematch_cut[rem.rematch_cut['elec_id']==list((mult_dict[4])[i])[0]].sort_values('FEC_ID').reset_index()\n",
    "    b = rem.rematch_cut[rem.rematch_cut['elec_id']==list((mult_dict[4])[i])[1]].sort_values('FEC_ID').reset_index()\n",
    "    c = rem.rematch_cut[rem.rematch_cut['elec_id']==list((mult_dict[4])[i])[2]].sort_values('FEC_ID').reset_index()\n",
    "    d = rem.rematch_cut[rem.rematch_cut['elec_id']==list((mult_dict[4])[i])[3]].sort_values('FEC_ID').reset_index()\n",
    "\n",
    "    a.set_index('FEC_ID')\n",
    "    b.set_index('FEC_ID')\n",
    "    c.set_index('FEC_ID')\n",
    "    d.set_index('FEC_ID')\n",
    "\n",
    "    x0 = a['vote%']\n",
    "    y0 = a['TTL_DISB']\n",
    "    x1 = b['vote%']\n",
    "    y1 = b['TTL_DISB']\n",
    "    x2 = c['vote%']\n",
    "    y2 = c['TTL_DISB']\n",
    "    x3 = d['vote%']  \n",
    "    y3 = d['TTL_DISB']\n",
    "    \n",
    "    x_list0 = [round(each, 2) for each in [x0[0], x1[0], x2[0], x3[0]]]\n",
    "    x_group[0].append(x_list0)\n",
    "    y_list0 = [round(each, 2) for each in [y0[0], y1[0], y2[0], y3[0]]]\n",
    "    y_group[0].append(y_list0)\n",
    "    \n",
    "    x_list1 = [round(each, 2) for each in [x0[1], x1[1], x2[1], x3[1]]]\n",
    "    x_group[1].append(x_list1)\n",
    "    y_list1 = [round(each, 2) for each in [y0[1], y1[1], y2[1], y3[1]]]\n",
    "    y_group[1].append(y_list1)\n",
    "\n",
    "\n",
    "my_df = pd.DataFrame([x_group[0][0],x_group[1][0]], index=[a['candidate'][0], a['candidate'][1]], columns=[a['elec_id'][0], b['elec_id'][0], c['elec_id'][0], d['elec_id'][0]]).transpose()\n",
    "my_df.plot(kind='bar')"
   ]
  },
  {
   "cell_type": "code",
   "execution_count": 64,
   "metadata": {},
   "outputs": [
    {
     "data": {
      "image/png": "[encoded data removed]",
      "text/plain": [
       "<Figure size 432x288 with 1 Axes>"
      ]
     },
     "metadata": {},
     "output_type": "display_data"
    }
   ],
   "source": [
    "fig, ax = plt.subplots()\n",
    "for i in range(len(x_group)):\n",
    "    x = x_group[i]\n",
    "    y = enumerate(x_group[i])\n",
    "    \n",
    "    ax.plot(y, x, linewidth=2.5, zorder=2) \n",
    "    ax.scatter(y, x, s=200, zorder=1)"
   ]
  },
  {
   "cell_type": "code",
   "execution_count": 42,
   "metadata": {},
   "outputs": [
    {
     "data": {
      "text/html": [
       "<div>\n",
       "<style scoped>\n",
       "    .dataframe tbody tr th:only-of-type {\n",
       "        vertical-align: middle;\n",
       "    }\n",
       "\n",
       "    .dataframe tbody tr th {\n",
       "        vertical-align: top;\n",
       "    }\n",
       "\n",
       "    .dataframe thead th {\n",
       "        text-align: right;\n",
       "    }\n",
       "</style>\n",
       "<table border=\"1\" class=\"dataframe\">\n",
       "  <thead>\n",
       "    <tr style=\"text-align: right;\">\n",
       "      <th></th>\n",
       "      <th>index</th>\n",
       "      <th>FEC_ID</th>\n",
       "      <th>elec_id</th>\n",
       "      <th>year</th>\n",
       "      <th>candidate</th>\n",
       "      <th>candidatevotes</th>\n",
       "      <th>vote%</th>\n",
       "      <th>office</th>\n",
       "      <th>party</th>\n",
       "      <th>state</th>\n",
       "      <th>district</th>\n",
       "      <th>INC_STATUS</th>\n",
       "      <th>totalvotes</th>\n",
       "      <th>TTL_RECEIPTS</th>\n",
       "      <th>TTL_DISB</th>\n",
       "      <th>delta_vote</th>\n",
       "      <th>delta_spend</th>\n",
       "    </tr>\n",
       "  </thead>\n",
       "  <tbody>\n",
       "    <tr>\n",
       "      <th>0</th>\n",
       "      <td>16493</td>\n",
       "      <td>H2TX01062</td>\n",
       "      <td>2018-TX-01</td>\n",
       "      <td>2018</td>\n",
       "      <td>Shirley J. McKellar</td>\n",
       "      <td>61263</td>\n",
       "      <td>26.32</td>\n",
       "      <td>US House</td>\n",
       "      <td>democrat</td>\n",
       "      <td>Texas</td>\n",
       "      <td>1</td>\n",
       "      <td>C</td>\n",
       "      <td>232720</td>\n",
       "      <td>48199.13</td>\n",
       "      <td>47552.69</td>\n",
       "      <td>0.0</td>\n",
       "      <td>0.0</td>\n",
       "    </tr>\n",
       "    <tr>\n",
       "      <th>1</th>\n",
       "      <td>16492</td>\n",
       "      <td>H4TX04039</td>\n",
       "      <td>2018-TX-01</td>\n",
       "      <td>2018</td>\n",
       "      <td>Louie Gohmert</td>\n",
       "      <td>168165</td>\n",
       "      <td>72.26</td>\n",
       "      <td>US House</td>\n",
       "      <td>republican</td>\n",
       "      <td>Texas</td>\n",
       "      <td>1</td>\n",
       "      <td>I</td>\n",
       "      <td>232720</td>\n",
       "      <td>826202.18</td>\n",
       "      <td>787021.73</td>\n",
       "      <td>0.0</td>\n",
       "      <td>0.0</td>\n",
       "    </tr>\n",
       "  </tbody>\n",
       "</table>\n",
       "</div>"
      ],
      "text/plain": [
       "   index     FEC_ID     elec_id  year            candidate  candidatevotes  \\\n",
       "0  16493  H2TX01062  2018-TX-01  2018  Shirley J. McKellar           61263   \n",
       "1  16492  H4TX04039  2018-TX-01  2018        Louie Gohmert          168165   \n",
       "\n",
       "   vote%    office       party  state district INC_STATUS  totalvotes  \\\n",
       "0  26.32  US House    democrat  Texas        1          C      232720   \n",
       "1  72.26  US House  republican  Texas        1          I      232720   \n",
       "\n",
       "   TTL_RECEIPTS   TTL_DISB  delta_vote  delta_spend  \n",
       "0      48199.13   47552.69         0.0          0.0  \n",
       "1     826202.18  787021.73         0.0          0.0  "
      ]
     },
     "execution_count": 42,
     "metadata": {},
     "output_type": "execute_result"
    }
   ],
   "source": [
    "b"
   ]
  },
  {
   "cell_type": "code",
   "execution_count": null,
   "metadata": {},
   "outputs": [],
   "source": []
  },
  {
   "cell_type": "code",
   "execution_count": 29,
   "metadata": {
    "scrolled": true
   },
   "outputs": [
    {
     "data": {
      "text/plain": [
       "40"
      ]
     },
     "execution_count": 29,
     "metadata": {},
     "output_type": "execute_result"
    }
   ],
   "source": [
    "len(x4_rematch_elec_id)"
   ]
  },
  {
   "cell_type": "code",
   "execution_count": null,
   "metadata": {},
   "outputs": [],
   "source": []
  }
 ],
 "metadata": {
  "kernelspec": {
   "display_name": "Python 3",
   "language": "python",
   "name": "python3"
  },
  "language_info": {
   "codemirror_mode": {
    "name": "ipython",
    "version": 3
   },
   "file_extension": ".py",
   "mimetype": "text/x-python",
   "name": "python",
   "nbconvert_exporter": "python",
   "pygments_lexer": "ipython3",
   "version": "3.7.1"
  }
 },
 "nbformat": 4,
 "nbformat_minor": 2
}
